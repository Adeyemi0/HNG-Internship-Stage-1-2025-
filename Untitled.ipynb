{
 "cells": [
  {
   "cell_type": "code",
   "execution_count": 1,
   "id": "bff2a7f6-ac04-4fc0-9d9d-ef03d34d5f1f",
   "metadata": {},
   "outputs": [],
   "source": [
    "import pandas as pd"
   ]
  },
  {
   "cell_type": "code",
   "execution_count": 2,
   "id": "96e734da-8333-45e2-b453-c5d94a02b905",
   "metadata": {},
   "outputs": [],
   "source": [
    "df = pd.read_excel('productdata.xlsx')"
   ]
  },
  {
   "cell_type": "code",
   "execution_count": 3,
   "id": "1da747a8-bb2b-4df2-b4e1-1ddb740dbe2b",
   "metadata": {},
   "outputs": [
    {
     "data": {
      "text/plain": [
       "Index(['PRODUCTID', 'TITLE', 'BULLET_POINTS', 'DESCRIPTION', 'PRODUCTTYPEID',\n",
       "       'ProductLength'],\n",
       "      dtype='object')"
      ]
     },
     "execution_count": 3,
     "metadata": {},
     "output_type": "execute_result"
    }
   ],
   "source": [
    "df.columns"
   ]
  },
  {
   "cell_type": "code",
   "execution_count": 4,
   "id": "48ba835d-dedc-48e0-a385-67f42b6dbc31",
   "metadata": {},
   "outputs": [
    {
     "data": {
      "text/plain": [
       "(3847, 6)"
      ]
     },
     "execution_count": 4,
     "metadata": {},
     "output_type": "execute_result"
    }
   ],
   "source": [
    "df.shape"
   ]
  },
  {
   "cell_type": "code",
   "execution_count": 5,
   "id": "8a5579af-a823-411e-ab39-a7f6780971bc",
   "metadata": {},
   "outputs": [
    {
     "data": {
      "text/html": [
       "<div>\n",
       "<style scoped>\n",
       "    .dataframe tbody tr th:only-of-type {\n",
       "        vertical-align: middle;\n",
       "    }\n",
       "\n",
       "    .dataframe tbody tr th {\n",
       "        vertical-align: top;\n",
       "    }\n",
       "\n",
       "    .dataframe thead th {\n",
       "        text-align: right;\n",
       "    }\n",
       "</style>\n",
       "<table border=\"1\" class=\"dataframe\">\n",
       "  <thead>\n",
       "    <tr style=\"text-align: right;\">\n",
       "      <th></th>\n",
       "      <th>PRODUCTID</th>\n",
       "      <th>TITLE</th>\n",
       "      <th>BULLET_POINTS</th>\n",
       "      <th>DESCRIPTION</th>\n",
       "      <th>PRODUCTTYPEID</th>\n",
       "      <th>ProductLength</th>\n",
       "    </tr>\n",
       "  </thead>\n",
       "  <tbody>\n",
       "    <tr>\n",
       "      <th>0</th>\n",
       "      <td>1925202</td>\n",
       "      <td>ArtzFolio Tulip Flowers Blackout Curtain for D...</td>\n",
       "      <td>[LUXURIOUS &amp; APPEALING: Beautiful custom-made ...</td>\n",
       "      <td>NaN</td>\n",
       "      <td>1650.0</td>\n",
       "      <td>2125.980000</td>\n",
       "    </tr>\n",
       "    <tr>\n",
       "      <th>1</th>\n",
       "      <td>2673191</td>\n",
       "      <td>Marks &amp; Spencer Girls' Pyjama Sets T86_2561C_N...</td>\n",
       "      <td>[Harry Potter Hedwig Pyjamas (6-16 Yrs),100% c...</td>\n",
       "      <td>NaN</td>\n",
       "      <td>2755.0</td>\n",
       "      <td>393.700000</td>\n",
       "    </tr>\n",
       "    <tr>\n",
       "      <th>2</th>\n",
       "      <td>2765088</td>\n",
       "      <td>PRIKNIK Horn Red Electric Air Horn Compressor ...</td>\n",
       "      <td>[Loud Dual Tone Trumpet Horn, Compatible With ...</td>\n",
       "      <td>Specifications: Color: Red, Material: Aluminiu...</td>\n",
       "      <td>7537.0</td>\n",
       "      <td>748.031495</td>\n",
       "    </tr>\n",
       "    <tr>\n",
       "      <th>3</th>\n",
       "      <td>1594019</td>\n",
       "      <td>ALISHAH Women's Cotton Ankle Length Leggings C...</td>\n",
       "      <td>[Made By 95%cotton and 5% Lycra which gives yo...</td>\n",
       "      <td>AISHAH Women's Lycra Cotton Ankel Leggings. Br...</td>\n",
       "      <td>2996.0</td>\n",
       "      <td>787.401574</td>\n",
       "    </tr>\n",
       "    <tr>\n",
       "      <th>4</th>\n",
       "      <td>283658</td>\n",
       "      <td>The United Empire Loyalists: A Chronicle of th...</td>\n",
       "      <td>NaN</td>\n",
       "      <td>NaN</td>\n",
       "      <td>6112.0</td>\n",
       "      <td>598.424000</td>\n",
       "    </tr>\n",
       "  </tbody>\n",
       "</table>\n",
       "</div>"
      ],
      "text/plain": [
       "   PRODUCTID                                              TITLE  \\\n",
       "0    1925202  ArtzFolio Tulip Flowers Blackout Curtain for D...   \n",
       "1    2673191  Marks & Spencer Girls' Pyjama Sets T86_2561C_N...   \n",
       "2    2765088  PRIKNIK Horn Red Electric Air Horn Compressor ...   \n",
       "3    1594019  ALISHAH Women's Cotton Ankle Length Leggings C...   \n",
       "4     283658  The United Empire Loyalists: A Chronicle of th...   \n",
       "\n",
       "                                       BULLET_POINTS  \\\n",
       "0  [LUXURIOUS & APPEALING: Beautiful custom-made ...   \n",
       "1  [Harry Potter Hedwig Pyjamas (6-16 Yrs),100% c...   \n",
       "2  [Loud Dual Tone Trumpet Horn, Compatible With ...   \n",
       "3  [Made By 95%cotton and 5% Lycra which gives yo...   \n",
       "4                                                NaN   \n",
       "\n",
       "                                         DESCRIPTION  PRODUCTTYPEID  \\\n",
       "0                                                NaN         1650.0   \n",
       "1                                                NaN         2755.0   \n",
       "2  Specifications: Color: Red, Material: Aluminiu...         7537.0   \n",
       "3  AISHAH Women's Lycra Cotton Ankel Leggings. Br...         2996.0   \n",
       "4                                                NaN         6112.0   \n",
       "\n",
       "   ProductLength  \n",
       "0    2125.980000  \n",
       "1     393.700000  \n",
       "2     748.031495  \n",
       "3     787.401574  \n",
       "4     598.424000  "
      ]
     },
     "execution_count": 5,
     "metadata": {},
     "output_type": "execute_result"
    }
   ],
   "source": [
    "df.head()"
   ]
  },
  {
   "cell_type": "code",
   "execution_count": 6,
   "id": "dd86c42a-3507-4fa3-9fdb-cf6cece709ee",
   "metadata": {},
   "outputs": [
    {
     "name": "stdout",
     "output_type": "stream",
     "text": [
      "['productid', 'title', 'bullet_points', 'description', 'producttypeid', 'product_length']\n"
     ]
    }
   ],
   "source": [
    "import re\n",
    "\n",
    "def correct_standardize_column_name(name):\n",
    "    # Add an underscore between lowercase and uppercase characters, then convert everything to lowercase\n",
    "    return re.sub(r'([a-z])([A-Z])', r'\\1_\\2', name).lower()\n",
    "\n",
    "# Apply to your column names\n",
    "columns = ['PRODUCTID', 'TITLE', 'BULLET_POINTS', 'DESCRIPTION', 'PRODUCTTYPEID', 'ProductLength']\n",
    "corrected_standardized_columns = [correct_standardize_column_name(col) for col in columns]\n",
    "\n",
    "print(corrected_standardized_columns)\n"
   ]
  },
  {
   "cell_type": "code",
   "execution_count": 7,
   "id": "fe8c8f06-a0de-4847-8ee2-1149a75a60a1",
   "metadata": {},
   "outputs": [
    {
     "data": {
      "text/plain": [
       "Index(['product_id', 'title', 'bullet_points', 'description',\n",
       "       'product_type_id', 'product_length'],\n",
       "      dtype='object')"
      ]
     },
     "execution_count": 7,
     "metadata": {},
     "output_type": "execute_result"
    }
   ],
   "source": [
    "df.columns = corrected_standardized_columns\n",
    "# Rename the column\n",
    "df.rename(columns={'producttypeid': 'product_type_id'}, inplace=True)\n",
    "# Rename the column\n",
    "df.rename(columns={'productid': 'product_id'}, inplace=True)\n",
    "df.columns"
   ]
  },
  {
   "cell_type": "code",
   "execution_count": 8,
   "id": "7c0c9bc3-1929-480b-a0cd-dc4d34f44e5b",
   "metadata": {},
   "outputs": [
    {
     "name": "stdout",
     "output_type": "stream",
     "text": [
      "Number of duplicates before dropping: 523\n"
     ]
    }
   ],
   "source": [
    "# Count duplicates in the 'title' column\n",
    "duplicates_count = df[df.duplicated(subset='title', keep=False)].shape[0]\n",
    "\n",
    "# Display the number of duplicates\n",
    "print(f\"Number of duplicates before dropping: {duplicates_count}\")\n"
   ]
  },
  {
   "cell_type": "code",
   "execution_count": 9,
   "id": "ab846f69-bc4e-4299-839e-d8f4560e6d77",
   "metadata": {},
   "outputs": [],
   "source": [
    "df = df.drop_duplicates(subset='title', keep='first')"
   ]
  },
  {
   "cell_type": "code",
   "execution_count": 10,
   "id": "b445763a-b573-4da1-a678-88393cf8447d",
   "metadata": {},
   "outputs": [
    {
     "name": "stdout",
     "output_type": "stream",
     "text": [
      "Number of duplicates before dropping: 0\n"
     ]
    }
   ],
   "source": [
    "# Count duplicates in the 'title' column\n",
    "duplicates_count = df[df.duplicated(subset='title', keep=False)].shape[0]\n",
    "\n",
    "# Display the number of duplicates\n",
    "print(f\"Number of duplicates before dropping: {duplicates_count}\")\n"
   ]
  },
  {
   "cell_type": "code",
   "execution_count": 11,
   "id": "47b23bcc-8f98-4ae5-81be-d595e06c1d74",
   "metadata": {},
   "outputs": [],
   "source": [
    "import spacy\n",
    "import pandas as pd\n",
    "import re\n",
    "\n",
    "# Load spaCy model\n",
    "nlp = spacy.load(\"en_core_web_sm\")\n",
    "\n",
    "# Redundant phrases including properly escaped '|'\n",
    "redundant_phrases = [\n",
    "    \"includes\", \"set of\", \"features\", \"for\", \"and\", \"with\", \"by\", \"in\", \"on\", \"of\", \"&\", r\"\\|\",\n",
    "    \"made for\", \"designed for\", \"perfect for\", \"ideal for\", \"great for\", \"available in\",\n",
    "    \"color options\", \"various sizes\", \"multiple colors\", \"premium\", \"quality\", \"best\",\n",
    "    \"top-rated\", \"new\", \"latest\", \"exclusive\", \"title\", \"name\", \"product\", \"details\",\n",
    "    \"info\", \"information\", \"plus\", \"also\", \"extra\", \"additional\", \"optional\", \"optional feature\",\n",
    "    \"piece\", \"pack\", \"set\", \"bundle\", \"pack of\"\n",
    "]\n",
    "\n",
    "# Compile redundant phrases into a single regex pattern\n",
    "redundant_pattern = re.compile(r'\\b(?:' + '|'.join(redundant_phrases) + r')\\b|\\\\', re.IGNORECASE)\n",
    "\n",
    "# Function to remove redundant phrases from title\n",
    "def remove_redundant_phrases(title):\n",
    "    # Remove redundant phrases\n",
    "    clean_title = redundant_pattern.sub('', title)\n",
    "    # Remove extra spaces\n",
    "    clean_title = re.sub(r'\\s+', ' ', clean_title).strip()\n",
    "    return clean_title\n",
    "\n",
    "# Improved function to extract sizes and other details from title\n",
    "def extract_info_from_title(title):\n",
    "    doc = nlp(title)\n",
    "    product_name = []\n",
    "    brand = \"\"\n",
    "    size_chart = []\n",
    "    \n",
    "    # Custom size pattern for phrases like \"4.5feet\", \"54inch\", etc.\n",
    "    size_pattern = re.compile(r'(\\d+(\\.\\d+)?\\s?(feet|foot|ft|inch|inches|cm|mm|pcs))', re.IGNORECASE)\n",
    "\n",
    "    # Extract sizes directly using regex\n",
    "    size_matches = size_pattern.findall(title)\n",
    "    size_chart = [match[0] for match in size_matches]  # Take the matched size patterns\n",
    "\n",
    "    # Example rule-based extraction from text using spaCy\n",
    "    for token in doc:\n",
    "        # Identify product name (Proper nouns and associated nouns)\n",
    "        if token.pos_ == \"PROPN\" or (token.dep_ == \"compound\" and token.head.pos_ == \"PROPN\"):\n",
    "            product_name.append(token.text)\n",
    "        \n",
    "        # Assume first proper noun could be the brand\n",
    "        if token.pos_ == \"PROPN\" and not brand:\n",
    "            brand = token.text\n",
    "    \n",
    "    # Construct basic product name and limit it to first 3 relevant words\n",
    "    product_name_text = ' '.join(product_name[:3])  # Limit to first 3 nouns (could adjust if needed)\n",
    "    \n",
    "    # If product name is too long (contains brand + long description), we can truncate it.\n",
    "    if len(product_name_text.split()) > 5:\n",
    "        product_name_text = ' '.join(product_name_text.split()[:5])  # Limit the length further if needed\n",
    "    \n",
    "    # Return extracted information\n",
    "    return product_name_text, brand, ', '.join(size_chart)\n",
    "\n",
    "# Function to create a detailed product description\n",
    "def create_detailed_description(row):\n",
    "    # Clean the title by removing redundant phrases\n",
    "    cleaned_title = remove_redundant_phrases(row['title'])\n",
    "    \n",
    "    # Extract relevant details from the cleaned title\n",
    "    product_name, brand, size_chart = extract_info_from_title(cleaned_title)\n",
    "    \n",
    "    # Template for the description\n",
    "    description_template = (\n",
    "        f\"product_name: {product_name}. \"\n",
    "        f\"Brand: {brand}. \"\n",
    "        f\"Size: {size_chart}.\"\n",
    "    )\n",
    "    short_title = f\"{product_name} {size_chart}\"\n",
    "    return pd.Series([description_template, short_title])\n"
   ]
  },
  {
   "cell_type": "code",
   "execution_count": 12,
   "id": "21235361-6279-41e0-8538-fd4f3c201290",
   "metadata": {},
   "outputs": [],
   "source": [
    "df[['description', 'short_title']] = df.apply(create_detailed_description, axis=1)"
   ]
  },
  {
   "cell_type": "code",
   "execution_count": 13,
   "id": "8cf38153-72d4-48bd-b441-9de000d172dd",
   "metadata": {},
   "outputs": [
    {
     "data": {
      "text/plain": [
       "'product_name: ArtzFolio Tulip Flowers. Brand: ArtzFolio. Size: 4.5feet, 54inch, 5 feet, 60 inch, 2 PCS.'"
      ]
     },
     "execution_count": 13,
     "metadata": {},
     "output_type": "execute_result"
    }
   ],
   "source": [
    "df['description'][0]"
   ]
  },
  {
   "cell_type": "code",
   "execution_count": 14,
   "id": "74d3013e-54a9-4a47-ac89-5d3ac7617c14",
   "metadata": {},
   "outputs": [
    {
     "data": {
      "text/plain": [
       "'product_name: Marks Spencer Girls. Brand: Marks. Size: .'"
      ]
     },
     "execution_count": 14,
     "metadata": {},
     "output_type": "execute_result"
    }
   ],
   "source": [
    "df['description'][1]"
   ]
  },
  {
   "cell_type": "code",
   "execution_count": 15,
   "id": "bc1c0880-00a7-42e5-b81f-d62fafa362bb",
   "metadata": {},
   "outputs": [
    {
     "data": {
      "text/plain": [
       "'ArtzFolio Tulip Flowers Blackout Curtain for Door, Window & Room | Eyelets & Tie Back | Canvas Fabric | Width 4.5feet (54inch) Height 5 feet (60 inch); Set of 2 PCS'"
      ]
     },
     "execution_count": 15,
     "metadata": {},
     "output_type": "execute_result"
    }
   ],
   "source": [
    "df['title'][0]"
   ]
  },
  {
   "cell_type": "code",
   "execution_count": 17,
   "id": "07cc684d-acf8-4669-b77b-ea26741a2aa0",
   "metadata": {},
   "outputs": [
    {
     "data": {
      "text/plain": [
       "'ArtzFolio Tulip Flowers 4.5feet, 54inch, 5 feet, 60 inch, 2 PCS'"
      ]
     },
     "execution_count": 17,
     "metadata": {},
     "output_type": "execute_result"
    }
   ],
   "source": [
    "df['short_title'][0]"
   ]
  },
  {
   "cell_type": "code",
   "execution_count": 19,
   "id": "a953ba8e-2a97-4f1b-865e-19c710efbe86",
   "metadata": {},
   "outputs": [
    {
     "name": "stdout",
     "output_type": "stream",
     "text": [
      "bullet_points    1363\n",
      "dtype: int64\n"
     ]
    }
   ],
   "source": [
    "# Check for missing values in the DataFrame\n",
    "missing_values = df.isnull().sum()\n",
    "\n",
    "# Display columns with missing values\n",
    "missing_columns = missing_values[missing_values > 0]\n",
    "print(missing_columns)\n"
   ]
  },
  {
   "cell_type": "code",
   "execution_count": 20,
   "id": "bbe8f83e-c855-4150-b849-fb0e9deb381d",
   "metadata": {},
   "outputs": [],
   "source": [
    "# Replace empty 'bullet_points' with values from 'description'\n",
    "df['bullet_points'] = df['bullet_points'].fillna(df['description'])\n"
   ]
  },
  {
   "cell_type": "code",
   "execution_count": 21,
   "id": "65bfc680-6b06-4ea9-be32-681dd7322b6d",
   "metadata": {},
   "outputs": [
    {
     "data": {
      "text/plain": [
       "count     3541.000000\n",
       "mean      1155.412416\n",
       "std       2699.303960\n",
       "min          1.000000\n",
       "25%        507.873000\n",
       "50%        638.000000\n",
       "75%       1023.622046\n",
       "max      96000.000000\n",
       "Name: product_length, dtype: float64"
      ]
     },
     "execution_count": 21,
     "metadata": {},
     "output_type": "execute_result"
    }
   ],
   "source": [
    "df['product_length'].describe()"
   ]
  },
  {
   "cell_type": "code",
   "execution_count": 22,
   "id": "9013bfe4-5fac-4861-a253-9fda9cca4cc9",
   "metadata": {},
   "outputs": [
    {
     "name": "stdout",
     "output_type": "stream",
     "text": [
      "Series([], dtype: int64)\n"
     ]
    }
   ],
   "source": [
    "# Check for missing values in the DataFrame\n",
    "missing_values = df.isnull().sum()\n",
    "\n",
    "# Display columns with missing values\n",
    "missing_columns = missing_values[missing_values > 0]\n",
    "print(missing_columns)\n"
   ]
  },
  {
   "cell_type": "code",
   "execution_count": 23,
   "id": "f1ed15f2-7e00-4030-b9f0-a8eeda197a13",
   "metadata": {},
   "outputs": [],
   "source": [
    "# Save the cleaned dataset as a CSV file\n",
    "df.to_csv('cleaned_dataset.csv', index=False)"
   ]
  },
  {
   "cell_type": "code",
   "execution_count": null,
   "id": "83449586-1c8e-4502-a047-61caa60af23d",
   "metadata": {},
   "outputs": [],
   "source": []
  }
 ],
 "metadata": {
  "kernelspec": {
   "display_name": "Python 3 (ipykernel)",
   "language": "python",
   "name": "python3"
  },
  "language_info": {
   "codemirror_mode": {
    "name": "ipython",
    "version": 3
   },
   "file_extension": ".py",
   "mimetype": "text/x-python",
   "name": "python",
   "nbconvert_exporter": "python",
   "pygments_lexer": "ipython3",
   "version": "3.11.10"
  }
 },
 "nbformat": 4,
 "nbformat_minor": 5
}
